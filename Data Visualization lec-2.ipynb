{
 "cells": [
  {
   "cell_type": "code",
   "execution_count": 19,
   "metadata": {},
   "outputs": [],
   "source": [
    "import numpy as np\n",
    "import pandas as pd\n",
    "import seaborn as sns\n",
    "\n",
    "import matplotlib as mpl\n",
    "import matplotlib.pyplot as plt\n",
    "%matplotlib inline\n",
    "\n",
    "from numpy.random import randn, randint, uniform, sample"
   ]
  },
  {
   "cell_type": "code",
   "execution_count": null,
   "metadata": {},
   "outputs": [],
   "source": []
  },
  {
   "cell_type": "markdown",
   "metadata": {},
   "source": [
    "# ASSIGNMENT DAY-2"
   ]
  },
  {
   "cell_type": "markdown",
   "metadata": {},
   "source": [
    "Create a dataframe with 10 rows on random numbers and 4 columns, (columns labelled as a,b,c,d) and plot a bar chart."
   ]
  },
  {
   "cell_type": "code",
   "execution_count": 21,
   "metadata": {},
   "outputs": [
    {
     "data": {
      "text/html": [
       "<div>\n",
       "<style scoped>\n",
       "    .dataframe tbody tr th:only-of-type {\n",
       "        vertical-align: middle;\n",
       "    }\n",
       "\n",
       "    .dataframe tbody tr th {\n",
       "        vertical-align: top;\n",
       "    }\n",
       "\n",
       "    .dataframe thead th {\n",
       "        text-align: right;\n",
       "    }\n",
       "</style>\n",
       "<table border=\"1\" class=\"dataframe\">\n",
       "  <thead>\n",
       "    <tr style=\"text-align: right;\">\n",
       "      <th></th>\n",
       "      <th>a</th>\n",
       "      <th>b</th>\n",
       "      <th>c</th>\n",
       "      <th>d</th>\n",
       "    </tr>\n",
       "  </thead>\n",
       "  <tbody>\n",
       "    <tr>\n",
       "      <th>0</th>\n",
       "      <td>-0.378165</td>\n",
       "      <td>1.373312</td>\n",
       "      <td>-2.160034</td>\n",
       "      <td>-0.273511</td>\n",
       "    </tr>\n",
       "    <tr>\n",
       "      <th>1</th>\n",
       "      <td>-0.506671</td>\n",
       "      <td>-0.762134</td>\n",
       "      <td>-0.013101</td>\n",
       "      <td>0.468020</td>\n",
       "    </tr>\n",
       "    <tr>\n",
       "      <th>2</th>\n",
       "      <td>0.949087</td>\n",
       "      <td>0.995991</td>\n",
       "      <td>-0.538402</td>\n",
       "      <td>-0.478109</td>\n",
       "    </tr>\n",
       "    <tr>\n",
       "      <th>3</th>\n",
       "      <td>-1.010418</td>\n",
       "      <td>-0.069994</td>\n",
       "      <td>-1.118134</td>\n",
       "      <td>1.195360</td>\n",
       "    </tr>\n",
       "    <tr>\n",
       "      <th>4</th>\n",
       "      <td>0.488683</td>\n",
       "      <td>0.270839</td>\n",
       "      <td>0.248357</td>\n",
       "      <td>-1.211253</td>\n",
       "    </tr>\n",
       "    <tr>\n",
       "      <th>5</th>\n",
       "      <td>-0.947494</td>\n",
       "      <td>0.625789</td>\n",
       "      <td>0.152264</td>\n",
       "      <td>-0.284924</td>\n",
       "    </tr>\n",
       "    <tr>\n",
       "      <th>6</th>\n",
       "      <td>-0.141999</td>\n",
       "      <td>-0.438700</td>\n",
       "      <td>0.749657</td>\n",
       "      <td>-0.494805</td>\n",
       "    </tr>\n",
       "    <tr>\n",
       "      <th>7</th>\n",
       "      <td>-0.005632</td>\n",
       "      <td>-0.187937</td>\n",
       "      <td>0.865678</td>\n",
       "      <td>-1.691041</td>\n",
       "    </tr>\n",
       "    <tr>\n",
       "      <th>8</th>\n",
       "      <td>0.534783</td>\n",
       "      <td>0.598776</td>\n",
       "      <td>-0.242210</td>\n",
       "      <td>1.290802</td>\n",
       "    </tr>\n",
       "    <tr>\n",
       "      <th>9</th>\n",
       "      <td>0.133574</td>\n",
       "      <td>1.399150</td>\n",
       "      <td>0.562560</td>\n",
       "      <td>-0.835235</td>\n",
       "    </tr>\n",
       "  </tbody>\n",
       "</table>\n",
       "</div>"
      ],
      "text/plain": [
       "          a         b         c         d\n",
       "0 -0.378165  1.373312 -2.160034 -0.273511\n",
       "1 -0.506671 -0.762134 -0.013101  0.468020\n",
       "2  0.949087  0.995991 -0.538402 -0.478109\n",
       "3 -1.010418 -0.069994 -1.118134  1.195360\n",
       "4  0.488683  0.270839  0.248357 -1.211253\n",
       "5 -0.947494  0.625789  0.152264 -0.284924\n",
       "6 -0.141999 -0.438700  0.749657 -0.494805\n",
       "7 -0.005632 -0.187937  0.865678 -1.691041\n",
       "8  0.534783  0.598776 -0.242210  1.290802\n",
       "9  0.133574  1.399150  0.562560 -0.835235"
      ]
     },
     "execution_count": 21,
     "metadata": {},
     "output_type": "execute_result"
    }
   ],
   "source": [
    "dff = pd.DataFrame(randn(10,4), columns = [\"a\",\"b\",\"c\",\"d\"])\n",
    "dff"
   ]
  },
  {
   "cell_type": "code",
   "execution_count": 30,
   "metadata": {},
   "outputs": [
    {
     "data": {
      "image/png": "[encoded data removed]",
      "text/plain": [
       "<Figure size 720x720 with 1 Axes>"
      ]
     },
     "metadata": {
      "needs_background": "light"
     },
     "output_type": "display_data"
    }
   ],
   "source": [
    "dff.plot(kind=\"bar\", figsize=(10,10))\n",
    "plt.show()"
   ]
  },
  {
   "cell_type": "code",
   "execution_count": null,
   "metadata": {},
   "outputs": [],
   "source": []
  }
 ],
 "metadata": {
  "kernelspec": {
   "display_name": "Python 3",
   "language": "python",
   "name": "python3"
  },
  "language_info": {
   "codemirror_mode": {
    "name": "ipython",
    "version": 3
   },
   "file_extension": ".py",
   "mimetype": "text/x-python",
   "name": "python",
   "nbconvert_exporter": "python",
   "pygments_lexer": "ipython3",
   "version": "3.8.3"
  }
 },
 "nbformat": 4,
 "nbformat_minor": 4
}
